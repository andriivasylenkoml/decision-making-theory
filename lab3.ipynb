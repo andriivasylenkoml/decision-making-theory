{
 "cells": [
  {
   "cell_type": "markdown",
   "id": "cb03a557",
   "metadata": {},
   "source": [
    "Task 1\n"
   ]
  },
  {
   "cell_type": "code",
   "execution_count": 2,
   "id": "7cf1ddb7",
   "metadata": {},
   "outputs": [
    {
     "name": "stdout",
     "output_type": "stream",
     "text": [
      "Результати ранжування експертів:\n",
      "     Прізвище  Сума балів  Абсолютне рангове місце  Віднос. ранг  \\\n",
      "0      Грудік           3                        1      0.111111   \n",
      "1     Бадикін           4                        2      0.222222   \n",
      "2      Бабкін           4                        3      0.333333   \n",
      "3      Ціндин           7                        4      0.444444   \n",
      "4   Богданова           8                        5      0.555556   \n",
      "5       Скляр          10                        6      0.666667   \n",
      "6     Макогон          11                        7      0.777778   \n",
      "7     Пащенко          12                        8      0.888889   \n",
      "8  Пархоменко          13                        9      1.000000   \n",
      "\n",
      "   Ранговий показник (%)  \n",
      "0              11.111111  \n",
      "1              22.222222  \n",
      "2              33.333333  \n",
      "3              44.444444  \n",
      "4              55.555556  \n",
      "5              66.666667  \n",
      "6              77.777778  \n",
      "7              88.888889  \n",
      "8             100.000000  \n"
     ]
    }
   ],
   "source": [
    "import pandas as pd\n",
    "\n",
    "# Initial data: \"Sum of Points\" for each expert from Tables X and Y (example values)\n",
    "experts_data = {\n",
    "    \"Прізвище\": [\"Бадикін\", \"Бабкін\", \"Богданова\", \"Грудік\", \"Макогон\", \"Пархоменко\", \"Пащенко\", \"Скляр\", \"Ціндин\"],\n",
    "    \"Сума балів\": [4, 4, 8, 3, 11, 13, 12, 10, 7]  # Example values from Table X\n",
    "}\n",
    "\n",
    "# Create DataFrame\n",
    "df = pd.DataFrame(experts_data)\n",
    "\n",
    "# Sort by \"Sum of Points\" ascending to assign ranks\n",
    "df.sort_values(by=\"Сума балів\", ascending=True, inplace=True)\n",
    "\n",
    "# Assign absolute rank (1 = best)\n",
    "df[\"Абсолютне рангове місце\"] = range(1, len(df) + 1)\n",
    "\n",
    "# Calculate relative rank: rank / max_rank\n",
    "max_rank = df[\"Абсолютне рангове місце\"].max()\n",
    "df[\"Віднос. ранг\"] = df[\"Абсолютне рангове місце\"] / max_rank\n",
    "\n",
    "# Rank indicator in percentage\n",
    "df[\"Ранговий показник (%)\"] = df[\"Віднос. ранг\"] * 100\n",
    "\n",
    "# Re-sort by original order\n",
    "df.reset_index(drop=True, inplace=True)\n",
    "\n",
    "print(\"Результати ранжування експертів:\")\n",
    "print(df[[\"Прізвище\", \"Сума балів\", \"Абсолютне рангове місце\", \"Віднос. ранг\", \"Ранговий показник (%)\"]])"
   ]
  },
  {
   "cell_type": "code",
   "execution_count": null,
   "id": "0de21487",
   "metadata": {},
   "outputs": [
    {
     "name": "stdout",
     "output_type": "stream",
     "text": [
      "Результати ранжування експертів:\n",
      "     Прізвище  Сума балів  Абсолютне рангове місце  Віднос. ранг  \\\n",
      "0     Бадикін           4                        1      0.111111   \n",
      "1       Скляр           5                        2      0.222222   \n",
      "2      Грудік           6                        3      0.333333   \n",
      "3      Бабкін           6                        4      0.444444   \n",
      "4   Богданова           7                        5      0.555556   \n",
      "5      Ціндин           8                        6      0.666667   \n",
      "6     Макогон           9                        7      0.777778   \n",
      "7  Пархоменко          11                        8      0.888889   \n",
      "8     Пащенко          11                        9      1.000000   \n",
      "\n",
      "   Ранговий показник (%)  \n",
      "0              11.111111  \n",
      "1              22.222222  \n",
      "2              33.333333  \n",
      "3              44.444444  \n",
      "4              55.555556  \n",
      "5              66.666667  \n",
      "6              77.777778  \n",
      "7              88.888889  \n",
      "8             100.000000  \n"
     ]
    }
   ],
   "source": [
    "# Initial data: \"Sum of Points\" for each expert from Tables X and Y (example values)\n",
    "experts_data = {\n",
    "    \"Прізвище\": [\"Бадикін\", \"Бабкін\", \"Богданова\", \"Грудік\", \"Макогон\", \"Пархоменко\", \"Пащенко\", \"Скляр\", \"Ціндин\"],\n",
    "    \"Сума балів\": [4, 6, 7, 6, 9, 11, 11, 5, 8]  # Example values from Table X\n",
    "}\n",
    "\n",
    "# Create DataFrame\n",
    "df = pd.DataFrame(experts_data)\n",
    "\n",
    "# Sort by \"Sum of Points\" ascending to assign ranks\n",
    "df.sort_values(by=\"Сума балів\", ascending=True, inplace=True)\n",
    "\n",
    "# Assign absolute rank (1 = best)\n",
    "df[\"Абсолютне рангове місце\"] = range(1, len(df) + 1)\n",
    "\n",
    "# Calculate relative rank: rank / max_rank\n",
    "max_rank = df[\"Абсолютне рангове місце\"].max()\n",
    "df[\"Віднос. ранг\"] = df[\"Абсолютне рангове місце\"] / max_rank\n",
    "\n",
    "# Rank indicator in percentage\n",
    "df[\"Ранговий показник (%)\"] = df[\"Віднос. ранг\"] * 100\n",
    "\n",
    "# Re-sort by original order\n",
    "df.reset_index(drop=True, inplace=True)\n",
    "\n",
    "print(\"Результати ранжування експертів:\")\n",
    "print(df[[\"Прізвище\", \"Сума балів\", \"Абсолютне рангове місце\", \"Віднос. ранг\", \"Ранговий показник (%)\"]])"
   ]
  },
  {
   "cell_type": "code",
   "execution_count": 1,
   "id": "c3f3fd0d",
   "metadata": {},
   "outputs": [
    {
     "name": "stdout",
     "output_type": "stream",
     "text": [
      "Таблиця результатів:\n",
      "     Прізвище  Сума балів X  Ранг X  Сума балів Y  Ранг Y  X - Y  (X - Y)^2\n",
      "0     Бадикін             4     2.5             4     1.0    1.5       2.25\n",
      "1      Бабкін             4     2.5             6     3.5   -1.0       1.00\n",
      "2   Богданова             8     5.0             7     5.0    0.0       0.00\n",
      "3      Грудік             3     1.0             6     3.5   -2.5       6.25\n",
      "4     Макогон            11     7.0             9     7.0    0.0       0.00\n",
      "5  Пархоменко            13     9.0            11     8.5    0.5       0.25\n",
      "6     Пащенко            12     8.0            11     8.5   -0.5       0.25\n",
      "7       Скляр            10     6.0             5     2.0    4.0      16.00\n",
      "8      Ціндин             7     4.0             8     6.0   -2.0       4.00\n",
      "\n",
      "Коефіцієнт Спірмена (r_s): 0.75\n",
      "Сума квадратів різниць: 30.0\n"
     ]
    }
   ],
   "source": [
    "import pandas as pd\n",
    "import numpy as np\n",
    "from scipy.stats import rankdata\n",
    "\n",
    "# Дані для таблиць X і Y (результати двох експертів)\n",
    "names = ['Бадикін', 'Бабкін', 'Богданова', 'Грудік', 'Макогон', 'Пархоменко', 'Пащенко', 'Скляр', 'Ціндин']\n",
    "scores_X = [4, 4, 8, 3, 11, 13, 12, 10, 7]  # Сума балів експерта X\n",
    "scores_Y = [4, 6, 7, 6, 9, 11, 11, 5, 8]  # Сума балів експерта Y\n",
    "\n",
    "# Обчислення рангів (зворотне ранжування, бо більша сума = нижчий пріоритет)\n",
    "ranks_X = rankdata([x for x in scores_X], method='average')\n",
    "ranks_Y = rankdata([y for y in scores_Y], method='average')\n",
    "\n",
    "# Обчислення різниць і квадратів\n",
    "differences = ranks_X - ranks_Y\n",
    "squared_differences = differences ** 2\n",
    "\n",
    "# Формування таблиці\n",
    "df = pd.DataFrame({\n",
    "    'Прізвище': names,\n",
    "    'Сума балів X': scores_X,\n",
    "    'Ранг X': ranks_X,\n",
    "    'Сума балів Y': scores_Y,\n",
    "    'Ранг Y': ranks_Y,\n",
    "    'X - Y': differences,\n",
    "    '(X - Y)^2': squared_differences\n",
    "})\n",
    "\n",
    "# Обчислення коефіцієнта Спірмена\n",
    "N = len(names)\n",
    "sum_d_squared = sum(squared_differences)\n",
    "r_s = 1 - (6 * sum_d_squared) / (N * (N**2 - 1))\n",
    "\n",
    "print(\"Таблиця результатів:\")\n",
    "print(df)\n",
    "print(\"\\nКоефіцієнт Спірмена (r_s):\", r_s)\n",
    "print(\"Сума квадратів різниць:\", sum_d_squared)\n",
    "\n"
   ]
  }
 ],
 "metadata": {
  "kernelspec": {
   "display_name": ".venv",
   "language": "python",
   "name": "python3"
  },
  "language_info": {
   "codemirror_mode": {
    "name": "ipython",
    "version": 3
   },
   "file_extension": ".py",
   "mimetype": "text/x-python",
   "name": "python",
   "nbconvert_exporter": "python",
   "pygments_lexer": "ipython3",
   "version": "3.10.12"
  }
 },
 "nbformat": 4,
 "nbformat_minor": 5
}
