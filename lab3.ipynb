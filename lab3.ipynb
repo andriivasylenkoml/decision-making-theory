{
 "cells": [
  {
   "cell_type": "markdown",
   "id": "cb03a557",
   "metadata": {},
   "source": [
    "Task 1\n"
   ]
  },
  {
   "cell_type": "code",
   "execution_count": 7,
   "id": "7cf1ddb7",
   "metadata": {},
   "outputs": [
    {
     "name": "stdout",
     "output_type": "stream",
     "text": [
      "Результати ранжування експертів:\n",
      "     Прізвище  Сума балів  Абсолютне рангове місце  Віднос. ранг  \\\n",
      "0      Грудік           3                        1      0.111111   \n",
      "1     Бадикін           4                        2      0.222222   \n",
      "2      Бабкін           4                        3      0.333333   \n",
      "3      Ціндин           7                        4      0.444444   \n",
      "4   Богданова           8                        5      0.555556   \n",
      "5       Скляр          10                        6      0.666667   \n",
      "6     Макогон          11                        7      0.777778   \n",
      "7     Пащенко          12                        8      0.888889   \n",
      "8  Пархоменко          13                        9      1.000000   \n",
      "\n",
      "   Ранговий показник (%)  \n",
      "0              11.111111  \n",
      "1              22.222222  \n",
      "2              33.333333  \n",
      "3              44.444444  \n",
      "4              55.555556  \n",
      "5              66.666667  \n",
      "6              77.777778  \n",
      "7              88.888889  \n",
      "8             100.000000  \n"
     ]
    }
   ],
   "source": [
    "import pandas as pd\n",
    "\n",
    "# Initial data: \"Sum of Points\" for each expert from Tables X and Y (example values)\n",
    "experts_data = {\n",
    "    \"Прізвище\": [\"Бадикін\", \"Бабкін\", \"Богданова\", \"Грудік\", \"Макогон\", \"Пархоменко\", \"Пащенко\", \"Скляр\", \"Ціндин\"],\n",
    "    \"Сума балів\": [4, 4, 8, 3, 11, 13, 12, 10, 7]  # Example values from Table X\n",
    "}\n",
    "\n",
    "# Create DataFrame\n",
    "df = pd.DataFrame(experts_data)\n",
    "\n",
    "# Sort by \"Sum of Points\" ascending to assign ranks\n",
    "df.sort_values(by=\"Сума балів\", ascending=True, inplace=True)\n",
    "\n",
    "# Assign absolute rank (1 = best)\n",
    "df[\"Абсолютне рангове місце\"] = range(1, len(df) + 1)\n",
    "\n",
    "# Calculate relative rank: rank / max_rank\n",
    "max_rank = df[\"Абсолютне рангове місце\"].max()\n",
    "df[\"Віднос. ранг\"] = df[\"Абсолютне рангове місце\"] / max_rank\n",
    "\n",
    "# Rank indicator in percentage\n",
    "df[\"Ранговий показник (%)\"] = df[\"Віднос. ранг\"] * 100\n",
    "\n",
    "# Re-sort by original order\n",
    "df.reset_index(drop=True, inplace=True)\n",
    "\n",
    "print(\"Результати ранжування експертів:\")\n",
    "print(df[[\"Прізвище\", \"Сума балів\", \"Абсолютне рангове місце\", \"Віднос. ранг\", \"Ранговий показник (%)\"]])"
   ]
  }
 ],
 "metadata": {
  "kernelspec": {
   "display_name": ".venv",
   "language": "python",
   "name": "python3"
  },
  "language_info": {
   "codemirror_mode": {
    "name": "ipython",
    "version": 3
   },
   "file_extension": ".py",
   "mimetype": "text/x-python",
   "name": "python",
   "nbconvert_exporter": "python",
   "pygments_lexer": "ipython3",
   "version": "3.10.12"
  }
 },
 "nbformat": 4,
 "nbformat_minor": 5
}
