{
 "cells": [
  {
   "cell_type": "code",
   "execution_count": 2,
   "id": "15127923",
   "metadata": {},
   "outputs": [
    {
     "name": "stderr",
     "output_type": "stream",
     "text": [
      "133.15s - pydevd: Sending message related to process being replaced timed-out after 5 seconds\n"
     ]
    },
    {
     "name": "stdout",
     "output_type": "stream",
     "text": [
      "Requirement already satisfied: ipykernel in ./.venv/lib/python3.10/site-packages (6.29.5)\n",
      "Requirement already satisfied: scipy in ./.venv/lib/python3.10/site-packages (1.15.3)\n",
      "Requirement already satisfied: psutil in ./.venv/lib/python3.10/site-packages (from ipykernel) (7.0.0)\n",
      "Requirement already satisfied: debugpy>=1.6.5 in ./.venv/lib/python3.10/site-packages (from ipykernel) (1.8.14)\n",
      "Requirement already satisfied: jupyter-core!=5.0.*,>=4.12 in ./.venv/lib/python3.10/site-packages (from ipykernel) (5.8.1)\n",
      "Requirement already satisfied: nest-asyncio in ./.venv/lib/python3.10/site-packages (from ipykernel) (1.6.0)\n",
      "Requirement already satisfied: matplotlib-inline>=0.1 in ./.venv/lib/python3.10/site-packages (from ipykernel) (0.1.7)\n",
      "Requirement already satisfied: traitlets>=5.4.0 in ./.venv/lib/python3.10/site-packages (from ipykernel) (5.14.3)\n",
      "Requirement already satisfied: jupyter-client>=6.1.12 in ./.venv/lib/python3.10/site-packages (from ipykernel) (8.6.3)\n",
      "Requirement already satisfied: ipython>=7.23.1 in ./.venv/lib/python3.10/site-packages (from ipykernel) (8.36.0)\n",
      "Requirement already satisfied: comm>=0.1.1 in ./.venv/lib/python3.10/site-packages (from ipykernel) (0.2.2)\n",
      "Requirement already satisfied: pyzmq>=24 in ./.venv/lib/python3.10/site-packages (from ipykernel) (26.4.0)\n",
      "Requirement already satisfied: packaging in ./.venv/lib/python3.10/site-packages (from ipykernel) (25.0)\n",
      "Requirement already satisfied: tornado>=6.1 in ./.venv/lib/python3.10/site-packages (from ipykernel) (6.5.1)\n",
      "Requirement already satisfied: numpy<2.5,>=1.23.5 in ./.venv/lib/python3.10/site-packages (from scipy) (2.2.6)\n",
      "Requirement already satisfied: typing_extensions>=4.6 in ./.venv/lib/python3.10/site-packages (from ipython>=7.23.1->ipykernel) (4.13.2)\n",
      "Requirement already satisfied: jedi>=0.16 in ./.venv/lib/python3.10/site-packages (from ipython>=7.23.1->ipykernel) (0.19.2)\n",
      "Requirement already satisfied: exceptiongroup in ./.venv/lib/python3.10/site-packages (from ipython>=7.23.1->ipykernel) (1.3.0)\n",
      "Requirement already satisfied: pexpect>4.3 in ./.venv/lib/python3.10/site-packages (from ipython>=7.23.1->ipykernel) (4.9.0)\n",
      "Requirement already satisfied: decorator in ./.venv/lib/python3.10/site-packages (from ipython>=7.23.1->ipykernel) (5.2.1)\n",
      "Requirement already satisfied: stack_data in ./.venv/lib/python3.10/site-packages (from ipython>=7.23.1->ipykernel) (0.6.3)\n",
      "Requirement already satisfied: prompt_toolkit<3.1.0,>=3.0.41 in ./.venv/lib/python3.10/site-packages (from ipython>=7.23.1->ipykernel) (3.0.51)\n",
      "Requirement already satisfied: pygments>=2.4.0 in ./.venv/lib/python3.10/site-packages (from ipython>=7.23.1->ipykernel) (2.19.1)\n",
      "Requirement already satisfied: python-dateutil>=2.8.2 in ./.venv/lib/python3.10/site-packages (from jupyter-client>=6.1.12->ipykernel) (2.9.0.post0)\n",
      "Requirement already satisfied: platformdirs>=2.5 in ./.venv/lib/python3.10/site-packages (from jupyter-core!=5.0.*,>=4.12->ipykernel) (4.3.8)\n",
      "Requirement already satisfied: parso<0.9.0,>=0.8.4 in ./.venv/lib/python3.10/site-packages (from jedi>=0.16->ipython>=7.23.1->ipykernel) (0.8.4)\n",
      "Requirement already satisfied: ptyprocess>=0.5 in ./.venv/lib/python3.10/site-packages (from pexpect>4.3->ipython>=7.23.1->ipykernel) (0.7.0)\n",
      "Requirement already satisfied: wcwidth in ./.venv/lib/python3.10/site-packages (from prompt_toolkit<3.1.0,>=3.0.41->ipython>=7.23.1->ipykernel) (0.2.13)\n",
      "Requirement already satisfied: six>=1.5 in ./.venv/lib/python3.10/site-packages (from python-dateutil>=2.8.2->jupyter-client>=6.1.12->ipykernel) (1.17.0)\n",
      "Requirement already satisfied: executing>=1.2.0 in ./.venv/lib/python3.10/site-packages (from stack_data->ipython>=7.23.1->ipykernel) (2.2.0)\n",
      "Requirement already satisfied: asttokens>=2.1.0 in ./.venv/lib/python3.10/site-packages (from stack_data->ipython>=7.23.1->ipykernel) (3.0.0)\n",
      "Requirement already satisfied: pure-eval in ./.venv/lib/python3.10/site-packages (from stack_data->ipython>=7.23.1->ipykernel) (0.2.3)\n",
      "\n",
      "\u001b[1m[\u001b[0m\u001b[34;49mnotice\u001b[0m\u001b[1;39;49m]\u001b[0m\u001b[39;49m A new release of pip is available: \u001b[0m\u001b[31;49m23.0.1\u001b[0m\u001b[39;49m -> \u001b[0m\u001b[32;49m25.1.1\u001b[0m\n",
      "\u001b[1m[\u001b[0m\u001b[34;49mnotice\u001b[0m\u001b[1;39;49m]\u001b[0m\u001b[39;49m To update, run: \u001b[0m\u001b[32;49mpip install --upgrade pip\u001b[0m\n",
      "Note: you may need to restart the kernel to use updated packages.\n"
     ]
    }
   ],
   "source": [
    "%pip install ipykernel scipy "
   ]
  },
  {
   "cell_type": "markdown",
   "id": "6d986c20",
   "metadata": {},
   "source": [
    "Task 1.1"
   ]
  },
  {
   "cell_type": "code",
   "execution_count": 2,
   "id": "bd3cbe03",
   "metadata": {},
   "outputs": [
    {
     "name": "stdout",
     "output_type": "stream",
     "text": [
      "Optimal initial guess for B: -487154.31167671806\n"
     ]
    }
   ],
   "source": [
    "# Define the parameter N (variant number)\n",
    "N = 3  # Example: Variant 4\n",
    "\n",
    "# Calculate annual incomes\n",
    "incomes = [\n",
    "    50000 + 100 * N,\n",
    "    100000 + 100 * N,\n",
    "    300000 + 100 * N,\n",
    "    200000 + 100 * N\n",
    "]\n",
    "\n",
    "# Calculate turnover rate\n",
    "turnover_rate = (10 + 0.1 * N) / 100  # Convert to decimal\n",
    "\n",
    "# Define a function to calculate NPV given initial cost B\n",
    "def calculate_npv(B, incomes, rate):\n",
    "    npv = sum(income / ((1 + rate) ** (year + 1)) for year, income in enumerate(incomes))\n",
    "    return npv + B  # Include initial investment\n",
    "\n",
    "# Use numerical method to find the B for which NPV = 0\n",
    "from scipy.optimize import fsolve\n",
    "\n",
    "# Initial guess for B\n",
    "initial_B = -100000 + 100 * N\n",
    "\n",
    "# Solve for B\n",
    "optimal_B = fsolve(lambda B: calculate_npv(B, incomes, turnover_rate), initial_B)[0]\n",
    "print(f\"Optimal initial guess for B: {optimal_B}\")\n"
   ]
  },
  {
   "cell_type": "code",
   "execution_count": 4,
   "id": "70b7530f",
   "metadata": {},
   "outputs": [
    {
     "name": "stderr",
     "output_type": "stream",
     "text": [
      "139.67s - pydevd: Sending message related to process being replaced timed-out after 5 seconds\n"
     ]
    },
    {
     "name": "stdout",
     "output_type": "stream",
     "text": [
      "Requirement already satisfied: numpy in ./.venv/lib/python3.10/site-packages (2.2.6)\n",
      "Requirement already satisfied: matplotlib in ./.venv/lib/python3.10/site-packages (3.10.3)\n",
      "Requirement already satisfied: pandas in ./.venv/lib/python3.10/site-packages (2.2.3)\n",
      "Requirement already satisfied: kiwisolver>=1.3.1 in ./.venv/lib/python3.10/site-packages (from matplotlib) (1.4.8)\n",
      "Requirement already satisfied: pillow>=8 in ./.venv/lib/python3.10/site-packages (from matplotlib) (11.2.1)\n",
      "Requirement already satisfied: python-dateutil>=2.7 in ./.venv/lib/python3.10/site-packages (from matplotlib) (2.9.0.post0)\n",
      "Requirement already satisfied: contourpy>=1.0.1 in ./.venv/lib/python3.10/site-packages (from matplotlib) (1.3.2)\n",
      "Requirement already satisfied: cycler>=0.10 in ./.venv/lib/python3.10/site-packages (from matplotlib) (0.12.1)\n",
      "Requirement already satisfied: pyparsing>=2.3.1 in ./.venv/lib/python3.10/site-packages (from matplotlib) (3.2.3)\n",
      "Requirement already satisfied: fonttools>=4.22.0 in ./.venv/lib/python3.10/site-packages (from matplotlib) (4.58.1)\n",
      "Requirement already satisfied: packaging>=20.0 in ./.venv/lib/python3.10/site-packages (from matplotlib) (25.0)\n",
      "Requirement already satisfied: pytz>=2020.1 in ./.venv/lib/python3.10/site-packages (from pandas) (2025.2)\n",
      "Requirement already satisfied: tzdata>=2022.7 in ./.venv/lib/python3.10/site-packages (from pandas) (2025.2)\n",
      "Requirement already satisfied: six>=1.5 in ./.venv/lib/python3.10/site-packages (from python-dateutil>=2.7->matplotlib) (1.17.0)\n",
      "\n",
      "\u001b[1m[\u001b[0m\u001b[34;49mnotice\u001b[0m\u001b[1;39;49m]\u001b[0m\u001b[39;49m A new release of pip is available: \u001b[0m\u001b[31;49m23.0.1\u001b[0m\u001b[39;49m -> \u001b[0m\u001b[32;49m25.1.1\u001b[0m\n",
      "\u001b[1m[\u001b[0m\u001b[34;49mnotice\u001b[0m\u001b[1;39;49m]\u001b[0m\u001b[39;49m To update, run: \u001b[0m\u001b[32;49mpip install --upgrade pip\u001b[0m\n",
      "Note: you may need to restart the kernel to use updated packages.\n"
     ]
    }
   ],
   "source": [
    "%pip install numpy matplotlib pandas"
   ]
  },
  {
   "cell_type": "markdown",
   "id": "3f2d5e4d",
   "metadata": {},
   "source": [
    "Task 1.2"
   ]
  },
  {
   "cell_type": "code",
   "execution_count": 5,
   "id": "ca39f068",
   "metadata": {},
   "outputs": [
    {
     "name": "stdout",
     "output_type": "stream",
     "text": [
      "\"IT Company Staffing Table\" \n",
      "            Position  Coefficient A  Coefficient B  Salary (UAH)  \\\n",
      "0  Junior Developer            1.0              0    292.700730   \n",
      "1  Middle Developer            1.5              0    439.051095   \n",
      "2  Senior Developer            3.0              0    878.102190   \n",
      "3         Team Lead            3.0             50    928.102190   \n",
      "4   Project Manager            2.0              0    585.401460   \n",
      "5        HR-manager            1.5             50    489.051095   \n",
      "6         Architect            4.0              0   1170.802920   \n",
      "7               CTO            4.0             50   1220.802920   \n",
      "\n",
      "   Number of Employees  Total Salary (UAH)  \n",
      "0                    6         1756.204380  \n",
      "1                    8         3512.408759  \n",
      "2                   10         8781.021898  \n",
      "3                    3         2784.306569  \n",
      "4                    1          585.401460  \n",
      "5                    1          489.051095  \n",
      "6                    1         1170.802920  \n",
      "7                    1         1220.802920  \n",
      "Payroll in table:20300.0\n"
     ]
    }
   ],
   "source": [
    "# Re-import necessary packages after code reset\n",
    "import numpy as np\n",
    "import pandas as pd\n",
    "from scipy.optimize import fsolve\n",
    "\n",
    "# Variant number\n",
    "N = 3\n",
    "# Position counts\n",
    "positions = {\n",
    "    \"Junior Developer\": 6,\n",
    "    \"Middle Developer\": 8,\n",
    "    \"Senior Developer\": 10,\n",
    "    \"Team Lead\": 3,\n",
    "    \"Project Manager\": 1,\n",
    "    \"HR-manager\": 1,\n",
    "    \"Architect\": 1,\n",
    "    \"CTO\": 1\n",
    "}\n",
    "\n",
    "# Coefficients a_i and b_i\n",
    "coefficients = {\n",
    "    \"Junior Developer\": (1, 0),\n",
    "    \"Middle Developer\": (1.5, 0),\n",
    "    \"Senior Developer\": (3, 0),\n",
    "    \"Team Lead\": (3, 50),\n",
    "    \"Project Manager\": (2, 0),\n",
    "    \"HR-manager\": (1.5, 50),\n",
    "    \"Architect\": (4, 0),\n",
    "    \"CTO\": (4, 50)\n",
    "}\n",
    "\n",
    "# Target salary fund\n",
    "target_salary_fund = float(20000 + 100 * N)\n",
    "\n",
    "# Function to calculate total salary\n",
    "def total_salary(S_JD):\n",
    "    total = 0.0\n",
    "    for role in positions:\n",
    "        n_i = positions[role]\n",
    "        a_i, b_i = coefficients[role]\n",
    "        salary = n_i * (a_i * S_JD + b_i)\n",
    "        total += salary\n",
    "    return total\n",
    "\n",
    "# Difference function\n",
    "def salary_difference(S_JD):\n",
    "    return total_salary(S_JD) - target_salary_fund\n",
    "\n",
    "# Solve for S_JD\n",
    "initial_guess = 100.0\n",
    "S_JD_optimal = fsolve(salary_difference, initial_guess)[0]\n",
    "\n",
    "# Prepare table data\n",
    "roles = list(positions.keys())\n",
    "table_data = {\n",
    "    \"Position\": roles,\n",
    "    \"Coefficient A\": [coefficients[role][0] for role in roles],\n",
    "    \"Coefficient B\": [coefficients[role][1] for role in roles],\n",
    "    \"Salary (UAH)\": [coefficients[role][0] * S_JD_optimal + coefficients[role][1] for role in roles],\n",
    "    \"Number of Employees\": [positions[role] for role in roles],\n",
    "}\n",
    "\n",
    "# Add \"Total Salary\"\n",
    "table_data[\"Total Salary (UAH)\"] = [\n",
    "    table_data[\"Salary (UAH)\"][i] * table_data[\"Number of Employees\"][i]\n",
    "    for i in range(len(roles))\n",
    "]\n",
    "\n",
    "# Create DataFrame\n",
    "df = pd.DataFrame(table_data)\n",
    "\n",
    "print(f'\"IT Company Staffing Table\" \\n {df}\\nPayroll in table:{sum(table_data[\"Total Salary (UAH)\"][0:])}')  # Total salary excluding the last row"
   ]
  },
  {
   "cell_type": "markdown",
   "id": "a271ced0",
   "metadata": {},
   "source": [
    "Task 1.3"
   ]
  },
  {
   "cell_type": "code",
   "execution_count": null,
   "id": "bfc35f0f",
   "metadata": {},
   "outputs": [
    {
     "name": "stdout",
     "output_type": "stream",
     "text": [
      "Штатний розклад IT-компанії (оптимізований)\n",
      "             Посада  Коефіцієнт A  Коефіцієнт B  Оклад (грн)  \\\n",
      "0  Junior Developer           1.0             0        253.0   \n",
      "1  Middle Developer           1.5             0        379.5   \n",
      "2  Senior Developer           3.0             0        759.0   \n",
      "3         Team Lead           3.0            50        809.0   \n",
      "4   Project Manager           2.0             0        506.0   \n",
      "5        HR-manager           1.5            50        429.5   \n",
      "6         Architect           4.0             0       1012.0   \n",
      "7               CTO           4.0            50       1062.0   \n",
      "\n",
      "   Кількість співробітників  Сумарна зарплата (грн)  \n",
      "0                       5.0                  1265.0  \n",
      "1                       7.0                  2656.5  \n",
      "2                       8.0                  6072.0  \n",
      "3                       3.0                  2427.0  \n",
      "4                       1.0                   506.0  \n",
      "5                       1.0                   429.5  \n",
      "6                       1.0                  1012.0  \n",
      "7                       1.0                  1062.0  \n",
      "Payroll in table:15430.0\n"
     ]
    }
   ],
   "source": [
    "import pandas as pd\n",
    "import matplotlib.pyplot as plt\n",
    "\n",
    "# Data from the previous result\n",
    "N = 3\n",
    "best_S_JD = 250.0 + N\n",
    "best_solution = [5., 7., 8., 3., 1., 1., 1., 1.]\n",
    "\n",
    "roles = [\n",
    "    \"Junior Developer\", \"Middle Developer\", \"Senior Developer\", \"Team Lead\",\n",
    "    \"Project Manager\", \"HR-manager\", \"Architect\", \"CTO\"\n",
    "]\n",
    "\n",
    "a_i = [1, 1.5, 3, 3, 2, 1.5, 4, 4]\n",
    "b_i = [0, 0, 0, 50, 0, 50, 0, 50]\n",
    "\n",
    "# Build table data\n",
    "salaries = [a * best_S_JD + b for a, b in zip(a_i, b_i)]\n",
    "employees = best_solution\n",
    "total_salaries = [s * n for s, n in zip(salaries, employees)]\n",
    "\n",
    "table_data = {\n",
    "    \"Position\": roles,\n",
    "    \"Coefficient A\": a_i,\n",
    "    \"Coefficient B\": b_i,\n",
    "    \"Salary (UAH)\": salaries,\n",
    "    \"Number of Employees\": employees,\n",
    "    \"Total Salary (UAH)\": total_salaries\n",
    "}\n",
    "\n",
    "df = pd.DataFrame(table_data)\n",
    "\n",
    "print(f\"IT Company Staffing Table (Optimized)\\n{df}\")  # Display the DataFrame\n",
    "\n",
    "print(f'Payroll in table:{sum(df[\"Total Salary (UAH)\"])}')  # Total salary excluding the last row"
   ]
  },
  {
   "cell_type": "markdown",
   "id": "a1469968",
   "metadata": {},
   "source": [
    "Task 1.4"
   ]
  },
  {
   "cell_type": "code",
   "execution_count": null,
   "id": "97e5b6c5",
   "metadata": {},
   "outputs": [
    {
     "name": "stdout",
     "output_type": "stream",
     "text": [
      "   Advertising Cost  Profit from Sales  Profitability (%)\n",
      "0      10030.000000       14139.442458           9.757633\n",
      "1      16892.598084       14862.634202           8.301077\n",
      "2      15203.338276       14825.161409           8.655822\n",
      "3      13514.078467       14705.529648           9.014422\n",
      "4      11824.818659       14490.760078           9.375207\n"
     ]
    }
   ],
   "source": [
    "# Re-import libraries and redefine necessary code after environment reset\n",
    "\n",
    "import numpy as np\n",
    "from scipy.optimize import minimize\n",
    "import pandas as pd\n",
    "\n",
    "# Variant number\n",
    "N = 3\n",
    "\n",
    "# Constants\n",
    "seasonal_factor = 0.9\n",
    "wage_costs = 8000 + 10 * N\n",
    "product_price = 40 + 0.1 * N\n",
    "product_cost_price = 25 + 0.1 * N\n",
    "\n",
    "# Formula: SP = 35 * Is * (Ac + 3000)**0.5\n",
    "def sales_volume(ac):\n",
    "    return 35 * seasonal_factor *  (ac + 3000) ** 0.5\n",
    "\n",
    "# Revenue from turnover: RT = SP * PP\n",
    "def revenue(ac):\n",
    "    return sales_volume(ac) * product_price\n",
    "\n",
    "# Cost of goods sold: CGS = SP * CP\n",
    "def cost_of_goods_sold(ac):\n",
    "    return sales_volume(ac) * product_cost_price\n",
    "\n",
    "# Gross profit: GP = RT - CGS\n",
    "def gross_profit(ac):\n",
    "    return revenue(ac) - cost_of_goods_sold(ac)\n",
    "\n",
    "# Overhead costs: OC = 0.15 * RT\n",
    "def overhead_costs(ac):\n",
    "    return 0.15 * revenue(ac)\n",
    "\n",
    "# Gross expenses: GE = WC + Ac + OC\n",
    "def gross_expenses(ac):\n",
    "    return wage_costs + ac + overhead_costs(ac)\n",
    "\n",
    "# Profit from product sales: PPS = GP - GE\n",
    "def profit_from_sales(ac):\n",
    "    return gross_profit(ac) - gross_expenses(ac)\n",
    "\n",
    "# Objective: maximize profit => minimize negative profit\n",
    "objective = lambda ac: -profit_from_sales(ac[0])\n",
    "\n",
    "# Initial advertising cost guess\n",
    "initial_guess = [10000 + 10 * N]\n",
    "\n",
    "# Bounds to keep advertising cost positive\n",
    "bounds = [(1000, 100000)]\n",
    "\n",
    "# Use solver to find optimal advertising cost\n",
    "result = minimize(objective, initial_guess, bounds=bounds)\n",
    "optimal_ad_cost = result.x[0]\n",
    "optimal_profit = profit_from_sales(optimal_ad_cost)\n",
    "optimal_revenue = revenue(optimal_ad_cost)\n",
    "optimal_profitability = optimal_profit / optimal_revenue\n",
    "\n",
    "# Compute results for 90%, 80%, 70% of optimal advertising cost\n",
    "ad_costs_variants = [0.9 * optimal_ad_cost, 0.8 * optimal_ad_cost, 0.7 * optimal_ad_cost]\n",
    "profit_variants = [profit_from_sales(ac) for ac in ad_costs_variants]\n",
    "profitability_variants = [profit_from_sales(ac) / revenue(ac) for ac in ad_costs_variants]\n",
    "\n",
    "# Prepare result table\n",
    "df = pd.DataFrame({\n",
    "    \"Advertising Cost\": [10000 + 10 * N, optimal_ad_cost] + ad_costs_variants,\n",
    "    \"Profit from Sales\": [profit_from_sales(10000 + 10 * N), optimal_profit] + profit_variants,\n",
    "    \"Profitability (%)\": [profit_from_sales(10000 + 10 * N) / revenue(10000 + 10 * N) * 100,\n",
    "                          optimal_profitability * 100] + [p * 100 for p in profitability_variants]\n",
    "})\n",
    "\n",
    "# Display the DataFrame\n",
    "print(df)\n"
   ]
  },
  {
   "cell_type": "markdown",
   "id": "190c7206",
   "metadata": {},
   "source": [
    "Task 1.5"
   ]
  },
  {
   "cell_type": "code",
   "execution_count": 6,
   "id": "00717392",
   "metadata": {},
   "outputs": [
    {
     "name": "stdout",
     "output_type": "stream",
     "text": [
      "      Product  Production Plan (tons) Unit Price (UAH)  Revenue (UAH)\n",
      "0           A               22.500000              400    9000.000000\n",
      "1           B              248.430233              480  119246.511628\n",
      "2           C                0.000000              400       0.000000\n",
      "Total       —              270.930233                —  128246.511628\n"
     ]
    }
   ],
   "source": [
    "from scipy.optimize import linprog\n",
    "import pandas as pd\n",
    "\n",
    "# Variant number\n",
    "N = 3\n",
    "# K - koefficients for the problem.\n",
    "K = 100\n",
    "\n",
    "# Raw material consumption norms per 1 ton of product\n",
    "consumption = {\n",
    "    'Resource1': [0.4 + 0.01 * N] * 3,  # for A, B, C\n",
    "    'Resource2': [0.4 + 0.01 * N, 0.2 + 0.01 * N, 0.4 + 0.01 * N],\n",
    "    'Resource3': [0.2 + 0.01 * N, 0.4 + 0.01 * N, 0.2 + 0.01 * N]\n",
    "}\n",
    "\n",
    "# Raw material stocks\n",
    "stocks = {\n",
    "    'Resource1': 16.5 + K,\n",
    "    'Resource2': 15 + K,\n",
    "    'Resource3': 12 + K\n",
    "}\n",
    "\n",
    "# Product prices (revenue)\n",
    "prices = [300 + K, 380 + K, 300 + K]\n",
    "\n",
    "# Linear objective function (minimization, therefore -prices)\n",
    "c = [-p for p in prices]\n",
    "\n",
    "# Constraint matrix (resources)\n",
    "A_ub = [\n",
    "    [consumption['Resource1'][0], consumption['Resource1'][1], consumption['Resource1'][2]],\n",
    "    [consumption['Resource2'][0], consumption['Resource2'][1], consumption['Resource2'][2]],\n",
    "    [consumption['Resource3'][0], consumption['Resource3'][1], consumption['Resource3'][2]]\n",
    "]\n",
    "b_ub = [stocks['Resource1'], stocks['Resource2'], stocks['Resource3']]\n",
    "\n",
    "# Variable bounds (x1, x2, x3 ≥ 0)\n",
    "bounds = [(0, None)] * 3\n",
    "\n",
    "# Solution\n",
    "res = linprog(c, A_ub=A_ub, b_ub=b_ub, bounds=bounds, method='highs')\n",
    "\n",
    "# Form the results table\n",
    "result_df = pd.DataFrame({\n",
    "    'Product': ['A', 'B', 'C'],\n",
    "    'Production Plan (tons)': res.x,\n",
    "    'Unit Price (UAH)': prices,\n",
    "    'Revenue (UAH)': res.x * prices\n",
    "})\n",
    "result_df.loc['Total'] = ['—', result_df['Production Plan (tons)'].sum(), '—', result_df['Revenue (UAH)'].sum()]\n",
    "\n",
    "print(result_df)\n"
   ]
  },
  {
   "cell_type": "code",
   "execution_count": 8,
   "id": "c32c627e",
   "metadata": {},
   "outputs": [
    {
     "name": "stdout",
     "output_type": "stream",
     "text": [
      "   Constraint Slack (Unused Resource)  Shadow Price (UAH per unit)\n",
      "0  Resource 1                    None                   -716.27907\n",
      "1  Resource 2                    None                     -0.00000\n",
      "2  Resource 3                    None                   -400.00000\n"
     ]
    }
   ],
   "source": [
    "# Access 'ineqlin' as a dictionary to safely extract sensitivity details\n",
    "\n",
    "# Solve LP again\n",
    "res = linprog(c, A_ub=A_ub, b_ub=b_ub, bounds=bounds, method='highs')\n",
    "\n",
    "# Extract sensitivity data from 'ineqlin' if available\n",
    "ineqlin = res.get('ineqlin', {})\n",
    "slacks = ineqlin.get('slack', [None] * len(b_ub))\n",
    "shadow_prices = ineqlin.get('marginals', [None] * len(b_ub))\n",
    "\n",
    "sensitivity_df = pd.DataFrame({\n",
    "    'Constraint': ['Resource 1', 'Resource 2', 'Resource 3'],\n",
    "    'Slack (Unused Resource)': slacks,\n",
    "    'Shadow Price (UAH per unit)': shadow_prices\n",
    "})\n",
    "\n",
    "print(sensitivity_df)"
   ]
  }
 ],
 "metadata": {
  "kernelspec": {
   "display_name": ".venv",
   "language": "python",
   "name": "python3"
  },
  "language_info": {
   "codemirror_mode": {
    "name": "ipython",
    "version": 3
   },
   "file_extension": ".py",
   "mimetype": "text/x-python",
   "name": "python",
   "nbconvert_exporter": "python",
   "pygments_lexer": "ipython3",
   "version": "3.10.12"
  }
 },
 "nbformat": 4,
 "nbformat_minor": 5
}
