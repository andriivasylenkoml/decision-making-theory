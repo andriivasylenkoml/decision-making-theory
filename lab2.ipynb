{
 "cells": [
  {
   "cell_type": "code",
   "execution_count": 1,
   "id": "085d6426",
   "metadata": {},
   "outputs": [
    {
     "name": "stdout",
     "output_type": "stream",
     "text": [
      "Product  Quantity Produced (pcs) Profit per Unit (UAH)  Total Profit (UAH)\n",
      "  Chair                     24.0                    45              1080.0\n",
      "  Table                     14.0                    80              1120.0\n",
      "      —                     38.0                     —              2200.0\n"
     ]
    }
   ],
   "source": [
    "# Re-import after environment reset\n",
    "from scipy.optimize import linprog\n",
    "import pandas as pd\n",
    "\n",
    "# Coefficients\n",
    "profit = [45, 80]  # profit per chair and table\n",
    "material = [5, 20]  # material per chair and table\n",
    "labor = [10, 15]  # labor per chair and table\n",
    "\n",
    "# Available resources\n",
    "material_available = 400\n",
    "labor_available = 450\n",
    "\n",
    "# Objective function (maximize profit => minimize negative profit)\n",
    "c = [-p for p in profit]\n",
    "\n",
    "# Constraints matrix and bounds\n",
    "A_ub = [material, labor]\n",
    "b_ub = [material_available, labor_available]\n",
    "bounds = [(0, None), (0, None)]\n",
    "\n",
    "# Solve the problem\n",
    "res = linprog(c, A_ub=A_ub, b_ub=b_ub, bounds=bounds, method='highs')\n",
    "\n",
    "# Prepare result\n",
    "result_df = pd.DataFrame({\n",
    "    'Product': ['Chair', 'Table'],\n",
    "    'Quantity Produced (pcs)': res.x,\n",
    "    'Profit per Unit (UAH)': profit,\n",
    "    'Total Profit (UAH)': [res.x[i] * profit[i] for i in range(2)]\n",
    "})\n",
    "result_df.loc['Total'] = ['—', result_df['Quantity Produced (pcs)'].sum(), '—', result_df['Total Profit (UAH)'].sum()]\n",
    "\n",
    "# Display the result\n",
    "print(result_df.to_string(index=False))"
   ]
  }
 ],
 "metadata": {
  "kernelspec": {
   "display_name": ".venv",
   "language": "python",
   "name": "python3"
  },
  "language_info": {
   "codemirror_mode": {
    "name": "ipython",
    "version": 3
   },
   "file_extension": ".py",
   "mimetype": "text/x-python",
   "name": "python",
   "nbconvert_exporter": "python",
   "pygments_lexer": "ipython3",
   "version": "3.10.12"
  }
 },
 "nbformat": 4,
 "nbformat_minor": 5
}
